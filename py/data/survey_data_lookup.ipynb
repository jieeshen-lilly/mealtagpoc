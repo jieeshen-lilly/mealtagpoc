{
 "cells": [
  {
   "cell_type": "code",
   "execution_count": 179,
   "metadata": {},
   "outputs": [],
   "source": [
    "import pandas as pd\n",
    "import numpy as np\n",
    "import matplotlib.pyplot as plt\n",
    "import seaborn as sns\n",
    "import json\n",
    "import boto3\n",
    "import io"
   ]
  },
  {
   "cell_type": "code",
   "execution_count": 180,
   "metadata": {},
   "outputs": [],
   "source": [
    "conn = boto3.client('s3')\n",
    "s3 = boto3.resource('s3')"
   ]
  },
  {
   "cell_type": "code",
   "execution_count": 181,
   "metadata": {},
   "outputs": [],
   "source": [
    "bslsvy = []\n",
    "bdsvy = []\n",
    "for item in conn.list_objects(Bucket='aads-tagyourmeal')['Contents']:\n",
    "    filename = item['Key']\n",
    "    if 'baseline' in filename:\n",
    "#         print(filename)\n",
    "        obj = conn.get_object(Bucket='aads-tagyourmeal',Key=filename)\n",
    "        item = pd.read_json(obj['Body'],typ='series')\n",
    "        bslsvy.append(item)\n",
    "    if 'burden' in filename:\n",
    "#         print(filename)\n",
    "        obj = conn.get_object(Bucket='aads-tagyourmeal',Key=filename)\n",
    "        item = pd.read_json(obj['Body'],typ='series')\n",
    "        bdsvy.append(item)\n",
    "bslsvy_df = pd.DataFrame(bslsvy)\n",
    "bdsvy_df = pd.DataFrame(bdsvy, dtype=int)\n",
    "        "
   ]
  },
  {
   "cell_type": "code",
   "execution_count": 182,
   "metadata": {},
   "outputs": [
    {
     "data": {
      "text/plain": [
       "{'ResponseMetadata': {'RequestId': '8B31208822DC0B64',\n",
       "  'HostId': 'a+3Pdr1ECqwTpK4lPj9oYH+D4TJ4npimnk0Mmg2JF0xiJUUYhbbZjQkGiYMmjq1uQixsIjY0Mw4=',\n",
       "  'HTTPStatusCode': 200,\n",
       "  'HTTPHeaders': {'x-amz-id-2': 'a+3Pdr1ECqwTpK4lPj9oYH+D4TJ4npimnk0Mmg2JF0xiJUUYhbbZjQkGiYMmjq1uQixsIjY0Mw4=',\n",
       "   'x-amz-request-id': '8B31208822DC0B64',\n",
       "   'date': 'Sun, 24 Feb 2019 05:07:37 GMT',\n",
       "   'etag': '\"795ab12af1aef97a936a56f5a2e4bdcf\"',\n",
       "   'content-length': '0',\n",
       "   'server': 'AmazonS3'},\n",
       "  'RetryAttempts': 0},\n",
       " 'ETag': '\"795ab12af1aef97a936a56f5a2e4bdcf\"'}"
      ]
     },
     "execution_count": 182,
     "metadata": {},
     "output_type": "execute_result"
    }
   ],
   "source": [
    "csv_buffer = io.StringIO()\n",
    "bslsvy_df.to_csv(csv_buffer, index=False)\n",
    "s3.Object('aads-poc-analytics-datasets','bslsvy.csv').put(Body=csv_buffer.getvalue())\n",
    "csv_buffer = io.StringIO()\n",
    "bdsvy_df.to_csv(csv_buffer, index=False)\n",
    "s3.Object('aads-poc-analytics-datasets','bdsvy.csv').put(Body=csv_buffer.getvalue())"
   ]
  },
  {
   "cell_type": "code",
   "execution_count": 183,
   "metadata": {},
   "outputs": [
    {
     "name": "stderr",
     "output_type": "stream",
     "text": [
      "/home/ec2-user/anaconda3/envs/tensorflow_p36/lib/python3.6/site-packages/matplotlib/axes/_axes.py:6462: UserWarning: The 'normed' kwarg is deprecated, and has been replaced by the 'density' kwarg.\n",
      "  warnings.warn(\"The 'normed' kwarg is deprecated, and has been \"\n",
      "/home/ec2-user/anaconda3/envs/tensorflow_p36/lib/python3.6/site-packages/matplotlib/axes/_axes.py:6462: UserWarning: The 'normed' kwarg is deprecated, and has been replaced by the 'density' kwarg.\n",
      "  warnings.warn(\"The 'normed' kwarg is deprecated, and has been \"\n"
     ]
    },
    {
     "data": {
      "text/plain": [
       "<matplotlib.axes._subplots.AxesSubplot at 0x7f929936aba8>"
      ]
     },
     "execution_count": 183,
     "metadata": {},
     "output_type": "execute_result"
    },
    {
     "data": {
      "image/png": "[encoded data removed]",
      "text/plain": [
       "<Figure size 576x216 with 2 Axes>"
      ]
     },
     "metadata": {},
     "output_type": "display_data"
    }
   ],
   "source": [
    "f, (ax1, ax2) = plt.subplots(ncols=2, sharey=False, figsize=(8,3))\n",
    "\n",
    "sns.distplot(bdsvy_df.burden1, ax=ax1, bins=10, kde=False, rug=False)\n",
    "sns.distplot(bdsvy_df.burden2, ax=ax2, bins=10, kde=False, rug=False)"
   ]
  },
  {
   "cell_type": "code",
   "execution_count": 184,
   "metadata": {},
   "outputs": [
    {
     "data": {
      "text/plain": [
       "<matplotlib.axes._subplots.AxesSubplot at 0x7f9298af61d0>"
      ]
     },
     "execution_count": 184,
     "metadata": {},
     "output_type": "execute_result"
    },
    {
     "data": {
      "image/png": "[encoded data removed]",
      "text/plain": [
       "<Figure size 1080x216 with 3 Axes>"
      ]
     },
     "metadata": {},
     "output_type": "display_data"
    }
   ],
   "source": [
    "f, (ax1, ax2, ax3) = plt.subplots(ncols=3, sharey=False, figsize=(15,3))\n",
    "\n",
    "sns.countplot(x=\"age\", hue=\"gender\", data=bslsvy_df, ax=ax1)\n",
    "sns.countplot(x=\"arm\", hue=\"gender\", data=bslsvy_df, ax=ax2)\n",
    "sns.countplot(x=\"race\", hue=\"gender\", data=bslsvy_df, ax=ax3)"
   ]
  },
  {
   "cell_type": "code",
   "execution_count": 190,
   "metadata": {},
   "outputs": [
    {
     "name": "stdout",
     "output_type": "stream",
     "text": [
      "On branch master\r\n",
      "Your branch is up-to-date with 'origin/master'.\r\n",
      "\r\n",
      "Changes not staged for commit:\r\n",
      "\t\u001b[31mmodified:   survey_data_lookup.ipynb\u001b[m\r\n",
      "\r\n",
      "no changes added to commit\r\n"
     ]
    }
   ],
   "source": [
    "!git commit -m \"survey pull\""
   ]
  },
  {
   "cell_type": "code",
   "execution_count": 192,
   "metadata": {},
   "outputs": [
    {
     "name": "stdout",
     "output_type": "stream",
     "text": [
      "On branch master\r\n",
      "Your branch is up-to-date with 'origin/master'.\r\n",
      "\r\n",
      "Changes not staged for commit:\r\n",
      "  (use \"git add <file>...\" to update what will be committed)\r\n",
      "  (use \"git checkout -- <file>...\" to discard changes in working directory)\r\n",
      "\r\n",
      "\t\u001b[31mmodified:   survey_data_lookup.ipynb\u001b[m\r\n",
      "\r\n",
      "no changes added to commit (use \"git add\" and/or \"git commit -a\")\r\n"
     ]
    }
   ],
   "source": [
    "!git status"
   ]
  },
  {
   "cell_type": "code",
   "execution_count": 193,
   "metadata": {},
   "outputs": [
    {
     "name": "stdout",
     "output_type": "stream",
     "text": [
      "Everything up-to-date\r\n"
     ]
    }
   ],
   "source": [
    "!git push"
   ]
  },
  {
   "cell_type": "code",
   "execution_count": null,
   "metadata": {},
   "outputs": [],
   "source": []
  },
  {
   "cell_type": "code",
   "execution_count": null,
   "metadata": {},
   "outputs": [],
   "source": []
  },
  {
   "cell_type": "code",
   "execution_count": 185,
   "metadata": {},
   "outputs": [
    {
     "name": "stdout",
     "output_type": "stream",
     "text": [
      "s3.ObjectSummary(bucket_name='aads-tagyourmeal', key='TestUser_event_2019-02-23 20:40:55 +0000.txt')\n",
      "s3.ObjectSummary(bucket_name='aads-tagyourmeal', key='TestUser_event_2019-02-23 20:52:39 +0000.txt')\n",
      "s3.ObjectSummary(bucket_name='aads-tagyourmeal', key='TestUser_event_2019-02-24 02:28:35 +0000.txt')\n",
      "s3.ObjectSummary(bucket_name='aads-tagyourmeal', key='TestUser_event_2019-02-24 02:36:55 +0000.txt')\n",
      "s3.ObjectSummary(bucket_name='aads-tagyourmeal', key='TestUser_event_2019-02-24 02:51:17 +0000.txt')\n",
      "s3.ObjectSummary(bucket_name='aads-tagyourmeal', key='TestUser_event_2019-02-24 03:06:39 +0000.txt')\n",
      "s3.ObjectSummary(bucket_name='aads-tagyourmeal', key='TestUser_event_2019-02-24 03:50:18 +0000.txt')\n",
      "s3.ObjectSummary(bucket_name='aads-tagyourmeal', key='TestUser_event_2019-02-24 03:51:17 +0000.txt')\n",
      "s3.ObjectSummary(bucket_name='aads-tagyourmeal', key='TestUser_motiondata_2019-02-23 20:40:55 +0000.txt')\n",
      "s3.ObjectSummary(bucket_name='aads-tagyourmeal', key='TestUser_motiondata_2019-02-23 20:52:39 +0000.txt')\n",
      "s3.ObjectSummary(bucket_name='aads-tagyourmeal', key='TestUser_motiondata_2019-02-24 02:28:35 +0000.txt')\n",
      "s3.ObjectSummary(bucket_name='aads-tagyourmeal', key='TestUser_motiondata_2019-02-24 02:36:55 +0000.txt')\n",
      "s3.ObjectSummary(bucket_name='aads-tagyourmeal', key='TestUser_motiondata_2019-02-24 02:51:17 +0000.txt')\n",
      "s3.ObjectSummary(bucket_name='aads-tagyourmeal', key='TestUser_motiondata_2019-02-24 03:06:39 +0000.txt')\n",
      "s3.ObjectSummary(bucket_name='aads-tagyourmeal', key='TestUser_motiondata_2019-02-24 03:50:18 +0000.txt')\n",
      "s3.ObjectSummary(bucket_name='aads-tagyourmeal', key='TestUser_motiondata_2019-02-24 03:51:17 +0000.txt')\n",
      "s3.ObjectSummary(bucket_name='aads-tagyourmeal', key='survey/baseline-survey_1550958498588_AADS0001.txt')\n",
      "s3.ObjectSummary(bucket_name='aads-tagyourmeal', key='survey/baseline-survey_1550958506577_AADS0002.txt')\n",
      "s3.ObjectSummary(bucket_name='aads-tagyourmeal', key='survey/baseline-survey_1550958514882_AADS0003.txt')\n",
      "s3.ObjectSummary(bucket_name='aads-tagyourmeal', key='survey/baseline-survey_1550958522868_AADS0004.txt')\n",
      "s3.ObjectSummary(bucket_name='aads-tagyourmeal', key='survey/baseline-survey_1550958529888_AADS0005.txt')\n",
      "s3.ObjectSummary(bucket_name='aads-tagyourmeal', key='survey/baseline-survey_1550961455572_AADS0007.txt')\n",
      "s3.ObjectSummary(bucket_name='aads-tagyourmeal', key='survey/baseline-survey_1550968457984_AADS0009.txt')\n",
      "s3.ObjectSummary(bucket_name='aads-tagyourmeal', key='survey/baseline-survey_1550968927131_AADS0008.txt')\n",
      "s3.ObjectSummary(bucket_name='aads-tagyourmeal', key='survey/baseline-survey_1550984522330_AADS0006.txt')\n",
      "s3.ObjectSummary(bucket_name='aads-tagyourmeal', key='survey/baseline-survey_1550984797367_AADS0009.txt')\n",
      "s3.ObjectSummary(bucket_name='aads-tagyourmeal', key='survey/baseline-survey_1550984846067_AADS0010.txt')\n",
      "s3.ObjectSummary(bucket_name='aads-tagyourmeal', key='survey/burden-survey_1550958436008_AADS0001.txt')\n",
      "s3.ObjectSummary(bucket_name='aads-tagyourmeal', key='survey/burden-survey_1550958446427_AADS0002.txt')\n",
      "s3.ObjectSummary(bucket_name='aads-tagyourmeal', key='survey/burden-survey_1550958455748_AADS0003.txt')\n",
      "s3.ObjectSummary(bucket_name='aads-tagyourmeal', key='survey/burden-survey_1550958464188_AADS0004.txt')\n",
      "s3.ObjectSummary(bucket_name='aads-tagyourmeal', key='survey/burden-survey_1550958473248_AADS0005.txt')\n",
      "s3.ObjectSummary(bucket_name='aads-tagyourmeal', key='survey/burden-survey_1550958482628_AADS0006.txt')\n",
      "s3.ObjectSummary(bucket_name='aads-tagyourmeal', key='survey/burden-survey_1550966490154_AADS0007.txt')\n",
      "s3.ObjectSummary(bucket_name='aads-tagyourmeal', key='survey/burden-survey_1550966859311_AADS0008.txt')\n",
      "s3.ObjectSummary(bucket_name='aads-tagyourmeal', key='survey/burden-survey_1550968199931_AADS0009.txt')\n",
      "s3.ObjectSummary(bucket_name='aads-tagyourmeal', key='survey/burden-survey_1550968211394_AADS0010.txt')\n"
     ]
    }
   ],
   "source": [
    "for object in bucket.objects.all():\n",
    "    print(object)"
   ]
  },
  {
   "cell_type": "code",
   "execution_count": null,
   "metadata": {},
   "outputs": [],
   "source": []
  },
  {
   "cell_type": "code",
   "execution_count": null,
   "metadata": {},
   "outputs": [],
   "source": []
  },
  {
   "cell_type": "code",
   "execution_count": null,
   "metadata": {},
   "outputs": [],
   "source": []
  },
  {
   "cell_type": "code",
   "execution_count": null,
   "metadata": {},
   "outputs": [],
   "source": []
  }
 ],
 "metadata": {
  "kernelspec": {
   "display_name": "conda_tensorflow_p36",
   "language": "python",
   "name": "conda_tensorflow_p36"
  },
  "language_info": {
   "codemirror_mode": {
    "name": "ipython",
    "version": 3
   },
   "file_extension": ".py",
   "mimetype": "text/x-python",
   "name": "python",
   "nbconvert_exporter": "python",
   "pygments_lexer": "ipython3",
   "version": "3.6.5"
  }
 },
 "nbformat": 4,
 "nbformat_minor": 2
}
